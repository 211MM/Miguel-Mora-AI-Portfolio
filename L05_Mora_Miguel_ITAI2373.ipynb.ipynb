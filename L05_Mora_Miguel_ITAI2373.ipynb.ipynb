{
  "cells": [
    {
      "cell_type": "markdown",
      "id": "0173ac91",
      "metadata": {
        "id": "0173ac91"
      },
      "source": [
        "\n",
        "# ITAI 2373 Module 05: Part-of-Speech Tagging\n",
        "## In-Class Exercise & Homework Lab\n",
        "\n",
        "Welcome to the world of Part-of-Speech (POS) tagging - the \"grammar police\" of Natural Language Processing! 🚔📝\n",
        "\n",
        "In this notebook, you'll explore how computers understand the grammatical roles of words in sentences, from simple rule-based approaches to modern AI systems.\n",
        "\n",
        "### What You'll Learn:\n",
        "- **Understand POS tagging fundamentals** and why it matters in daily apps\n",
        "- **Use NLTK and SpaCy** for practical text analysis\n",
        "- **Navigate different tag sets** and understand their trade-offs\n",
        "- **Handle real-world messy text** like speech transcripts and social media\n",
        "- **Apply POS tagging** to solve actual business problems\n",
        "\n",
        "### Structure:\n",
        "- **Part 1**: In-Class Exercise (30-45 minutes) - Basic concepts and hands-on practice\n",
        "- **Part 2**: Homework Lab - Real-world applications and advanced challenges\n",
        "\n",
        "---\n",
        "\n",
        "*💡 **Pro Tip**: POS tagging is everywhere! It helps search engines understand \"Apple stock\" vs \"apple pie\", helps Siri understand your commands, and powers autocorrect on your phone.*\n"
      ]
    },
    {
      "cell_type": "markdown",
      "id": "35d96f92",
      "metadata": {
        "id": "35d96f92"
      },
      "source": [
        "\n",
        "## 🛠️ Setup and Installation\n",
        "\n",
        "Let's get our tools ready! We'll use two powerful libraries:\n",
        "- **NLTK**: The \"Swiss Army knife\" of NLP - comprehensive but requires setup\n",
        "- **SpaCy**: The \"speed demon\" - built for production, cleaner output\n",
        "\n",
        "Run the cells below to install and set up everything we need.\n"
      ]
    },
    {
      "cell_type": "code",
      "execution_count": 1,
      "id": "2a5f81ea",
      "metadata": {
        "id": "2a5f81ea",
        "colab": {
          "base_uri": "https://localhost:8080/"
        },
        "outputId": "b9057549-30ea-41ef-87b2-320fa0242935"
      },
      "outputs": [
        {
          "output_type": "stream",
          "name": "stdout",
          "text": [
            "Requirement already satisfied: nltk in /usr/local/lib/python3.11/dist-packages (3.9.1)\n",
            "Requirement already satisfied: spacy in /usr/local/lib/python3.11/dist-packages (3.8.7)\n",
            "Requirement already satisfied: matplotlib in /usr/local/lib/python3.11/dist-packages (3.10.0)\n",
            "Requirement already satisfied: seaborn in /usr/local/lib/python3.11/dist-packages (0.13.2)\n",
            "Requirement already satisfied: pandas in /usr/local/lib/python3.11/dist-packages (2.2.2)\n",
            "Requirement already satisfied: click in /usr/local/lib/python3.11/dist-packages (from nltk) (8.2.1)\n",
            "Requirement already satisfied: joblib in /usr/local/lib/python3.11/dist-packages (from nltk) (1.5.1)\n",
            "Requirement already satisfied: regex>=2021.8.3 in /usr/local/lib/python3.11/dist-packages (from nltk) (2024.11.6)\n",
            "Requirement already satisfied: tqdm in /usr/local/lib/python3.11/dist-packages (from nltk) (4.67.1)\n",
            "Requirement already satisfied: spacy-legacy<3.1.0,>=3.0.11 in /usr/local/lib/python3.11/dist-packages (from spacy) (3.0.12)\n",
            "Requirement already satisfied: spacy-loggers<2.0.0,>=1.0.0 in /usr/local/lib/python3.11/dist-packages (from spacy) (1.0.5)\n",
            "Requirement already satisfied: murmurhash<1.1.0,>=0.28.0 in /usr/local/lib/python3.11/dist-packages (from spacy) (1.0.13)\n",
            "Requirement already satisfied: cymem<2.1.0,>=2.0.2 in /usr/local/lib/python3.11/dist-packages (from spacy) (2.0.11)\n",
            "Requirement already satisfied: preshed<3.1.0,>=3.0.2 in /usr/local/lib/python3.11/dist-packages (from spacy) (3.0.10)\n",
            "Requirement already satisfied: thinc<8.4.0,>=8.3.4 in /usr/local/lib/python3.11/dist-packages (from spacy) (8.3.6)\n",
            "Requirement already satisfied: wasabi<1.2.0,>=0.9.1 in /usr/local/lib/python3.11/dist-packages (from spacy) (1.1.3)\n",
            "Requirement already satisfied: srsly<3.0.0,>=2.4.3 in /usr/local/lib/python3.11/dist-packages (from spacy) (2.5.1)\n",
            "Requirement already satisfied: catalogue<2.1.0,>=2.0.6 in /usr/local/lib/python3.11/dist-packages (from spacy) (2.0.10)\n",
            "Requirement already satisfied: weasel<0.5.0,>=0.1.0 in /usr/local/lib/python3.11/dist-packages (from spacy) (0.4.1)\n",
            "Requirement already satisfied: typer<1.0.0,>=0.3.0 in /usr/local/lib/python3.11/dist-packages (from spacy) (0.16.0)\n",
            "Requirement already satisfied: numpy>=1.19.0 in /usr/local/lib/python3.11/dist-packages (from spacy) (2.0.2)\n",
            "Requirement already satisfied: requests<3.0.0,>=2.13.0 in /usr/local/lib/python3.11/dist-packages (from spacy) (2.32.3)\n",
            "Requirement already satisfied: pydantic!=1.8,!=1.8.1,<3.0.0,>=1.7.4 in /usr/local/lib/python3.11/dist-packages (from spacy) (2.11.7)\n",
            "Requirement already satisfied: jinja2 in /usr/local/lib/python3.11/dist-packages (from spacy) (3.1.6)\n",
            "Requirement already satisfied: setuptools in /usr/local/lib/python3.11/dist-packages (from spacy) (75.2.0)\n",
            "Requirement already satisfied: packaging>=20.0 in /usr/local/lib/python3.11/dist-packages (from spacy) (24.2)\n",
            "Requirement already satisfied: langcodes<4.0.0,>=3.2.0 in /usr/local/lib/python3.11/dist-packages (from spacy) (3.5.0)\n",
            "Requirement already satisfied: contourpy>=1.0.1 in /usr/local/lib/python3.11/dist-packages (from matplotlib) (1.3.2)\n",
            "Requirement already satisfied: cycler>=0.10 in /usr/local/lib/python3.11/dist-packages (from matplotlib) (0.12.1)\n",
            "Requirement already satisfied: fonttools>=4.22.0 in /usr/local/lib/python3.11/dist-packages (from matplotlib) (4.58.4)\n",
            "Requirement already satisfied: kiwisolver>=1.3.1 in /usr/local/lib/python3.11/dist-packages (from matplotlib) (1.4.8)\n",
            "Requirement already satisfied: pillow>=8 in /usr/local/lib/python3.11/dist-packages (from matplotlib) (11.2.1)\n",
            "Requirement already satisfied: pyparsing>=2.3.1 in /usr/local/lib/python3.11/dist-packages (from matplotlib) (3.2.3)\n",
            "Requirement already satisfied: python-dateutil>=2.7 in /usr/local/lib/python3.11/dist-packages (from matplotlib) (2.9.0.post0)\n",
            "Requirement already satisfied: pytz>=2020.1 in /usr/local/lib/python3.11/dist-packages (from pandas) (2025.2)\n",
            "Requirement already satisfied: tzdata>=2022.7 in /usr/local/lib/python3.11/dist-packages (from pandas) (2025.2)\n",
            "Requirement already satisfied: language-data>=1.2 in /usr/local/lib/python3.11/dist-packages (from langcodes<4.0.0,>=3.2.0->spacy) (1.3.0)\n",
            "Requirement already satisfied: annotated-types>=0.6.0 in /usr/local/lib/python3.11/dist-packages (from pydantic!=1.8,!=1.8.1,<3.0.0,>=1.7.4->spacy) (0.7.0)\n",
            "Requirement already satisfied: pydantic-core==2.33.2 in /usr/local/lib/python3.11/dist-packages (from pydantic!=1.8,!=1.8.1,<3.0.0,>=1.7.4->spacy) (2.33.2)\n",
            "Requirement already satisfied: typing-extensions>=4.12.2 in /usr/local/lib/python3.11/dist-packages (from pydantic!=1.8,!=1.8.1,<3.0.0,>=1.7.4->spacy) (4.14.0)\n",
            "Requirement already satisfied: typing-inspection>=0.4.0 in /usr/local/lib/python3.11/dist-packages (from pydantic!=1.8,!=1.8.1,<3.0.0,>=1.7.4->spacy) (0.4.1)\n",
            "Requirement already satisfied: six>=1.5 in /usr/local/lib/python3.11/dist-packages (from python-dateutil>=2.7->matplotlib) (1.17.0)\n",
            "Requirement already satisfied: charset-normalizer<4,>=2 in /usr/local/lib/python3.11/dist-packages (from requests<3.0.0,>=2.13.0->spacy) (3.4.2)\n",
            "Requirement already satisfied: idna<4,>=2.5 in /usr/local/lib/python3.11/dist-packages (from requests<3.0.0,>=2.13.0->spacy) (3.10)\n",
            "Requirement already satisfied: urllib3<3,>=1.21.1 in /usr/local/lib/python3.11/dist-packages (from requests<3.0.0,>=2.13.0->spacy) (2.4.0)\n",
            "Requirement already satisfied: certifi>=2017.4.17 in /usr/local/lib/python3.11/dist-packages (from requests<3.0.0,>=2.13.0->spacy) (2025.6.15)\n",
            "Requirement already satisfied: blis<1.4.0,>=1.3.0 in /usr/local/lib/python3.11/dist-packages (from thinc<8.4.0,>=8.3.4->spacy) (1.3.0)\n",
            "Requirement already satisfied: confection<1.0.0,>=0.0.1 in /usr/local/lib/python3.11/dist-packages (from thinc<8.4.0,>=8.3.4->spacy) (0.1.5)\n",
            "Requirement already satisfied: shellingham>=1.3.0 in /usr/local/lib/python3.11/dist-packages (from typer<1.0.0,>=0.3.0->spacy) (1.5.4)\n",
            "Requirement already satisfied: rich>=10.11.0 in /usr/local/lib/python3.11/dist-packages (from typer<1.0.0,>=0.3.0->spacy) (13.9.4)\n",
            "Requirement already satisfied: cloudpathlib<1.0.0,>=0.7.0 in /usr/local/lib/python3.11/dist-packages (from weasel<0.5.0,>=0.1.0->spacy) (0.21.1)\n",
            "Requirement already satisfied: smart-open<8.0.0,>=5.2.1 in /usr/local/lib/python3.11/dist-packages (from weasel<0.5.0,>=0.1.0->spacy) (7.3.0)\n",
            "Requirement already satisfied: MarkupSafe>=2.0 in /usr/local/lib/python3.11/dist-packages (from jinja2->spacy) (3.0.2)\n",
            "Requirement already satisfied: marisa-trie>=1.1.0 in /usr/local/lib/python3.11/dist-packages (from language-data>=1.2->langcodes<4.0.0,>=3.2.0->spacy) (1.2.1)\n",
            "Requirement already satisfied: markdown-it-py>=2.2.0 in /usr/local/lib/python3.11/dist-packages (from rich>=10.11.0->typer<1.0.0,>=0.3.0->spacy) (3.0.0)\n",
            "Requirement already satisfied: pygments<3.0.0,>=2.13.0 in /usr/local/lib/python3.11/dist-packages (from rich>=10.11.0->typer<1.0.0,>=0.3.0->spacy) (2.19.2)\n",
            "Requirement already satisfied: wrapt in /usr/local/lib/python3.11/dist-packages (from smart-open<8.0.0,>=5.2.1->weasel<0.5.0,>=0.1.0->spacy) (1.17.2)\n",
            "Requirement already satisfied: mdurl~=0.1 in /usr/local/lib/python3.11/dist-packages (from markdown-it-py>=2.2.0->rich>=10.11.0->typer<1.0.0,>=0.3.0->spacy) (0.1.2)\n",
            "Collecting en-core-web-sm==3.8.0\n",
            "  Downloading https://github.com/explosion/spacy-models/releases/download/en_core_web_sm-3.8.0/en_core_web_sm-3.8.0-py3-none-any.whl (12.8 MB)\n",
            "\u001b[2K     \u001b[90m━━━━━━━━━━━━━━━━━━━━━━━━━━━━━━━━━━━━━━━━\u001b[0m \u001b[32m12.8/12.8 MB\u001b[0m \u001b[31m94.9 MB/s\u001b[0m eta \u001b[36m0:00:00\u001b[0m\n",
            "\u001b[?25h\u001b[38;5;2m✔ Download and installation successful\u001b[0m\n",
            "You can now load the package via spacy.load('en_core_web_sm')\n",
            "\u001b[38;5;3m⚠ Restart to reload dependencies\u001b[0m\n",
            "If you are in a Jupyter or Colab notebook, you may need to restart Python in\n",
            "order to load all the package's dependencies. You can do this by selecting the\n",
            "'Restart kernel' or 'Restart runtime' option.\n",
            "✅ Installation complete!\n"
          ]
        }
      ],
      "source": [
        "\n",
        "# Install required libraries (run this first!)\n",
        "!pip install nltk spacy matplotlib seaborn pandas\n",
        "!python -m spacy download en_core_web_sm\n",
        "\n",
        "print(\"✅ Installation complete!\")\n"
      ]
    },
    {
      "cell_type": "code",
      "execution_count": 2,
      "id": "a1135905",
      "metadata": {
        "id": "a1135905",
        "colab": {
          "base_uri": "https://localhost:8080/"
        },
        "outputId": "a5804fb1-7253-4e6e-b150-31949b1ec7af"
      },
      "outputs": [
        {
          "output_type": "stream",
          "name": "stderr",
          "text": [
            "[nltk_data] Downloading package punkt to /root/nltk_data...\n",
            "[nltk_data]   Unzipping tokenizers/punkt.zip.\n",
            "[nltk_data] Downloading package averaged_perceptron_tagger to\n",
            "[nltk_data]     /root/nltk_data...\n",
            "[nltk_data]   Unzipping taggers/averaged_perceptron_tagger.zip.\n",
            "[nltk_data] Downloading package universal_tagset to /root/nltk_data...\n",
            "[nltk_data]   Unzipping taggers/universal_tagset.zip.\n"
          ]
        },
        {
          "output_type": "stream",
          "name": "stdout",
          "text": [
            "🎉 All libraries loaded successfully!\n",
            "📚 NLTK version: 3.9.1\n",
            "🚀 SpaCy version: 3.8.7\n"
          ]
        }
      ],
      "source": [
        "\n",
        "# Import all the libraries we'll need\n",
        "import nltk\n",
        "import spacy\n",
        "import pandas as pd\n",
        "import matplotlib.pyplot as plt\n",
        "import seaborn as sns\n",
        "from collections import Counter\n",
        "import warnings\n",
        "warnings.filterwarnings('ignore')\n",
        "\n",
        "# Download NLTK data (this might take a moment)\n",
        "nltk.download('punkt')\n",
        "nltk.download('averaged_perceptron_tagger')\n",
        "nltk.download('universal_tagset')\n",
        "\n",
        "# Load SpaCy model\n",
        "nlp = spacy.load('en_core_web_sm')\n",
        "\n",
        "print(\"🎉 All libraries loaded successfully!\")\n",
        "print(\"📚 NLTK version:\", nltk.__version__)\n",
        "print(\"🚀 SpaCy version:\", spacy.__version__)\n"
      ]
    },
    {
      "cell_type": "markdown",
      "id": "c816a7ce",
      "metadata": {
        "id": "c816a7ce"
      },
      "source": [
        "\n",
        "---\n",
        "# 🎯 PART 1: IN-CLASS EXERCISE (30-45 minutes)\n",
        "\n",
        "Welcome to the hands-on portion! We'll start with the basics and build up your understanding step by step.\n",
        "\n",
        "## Learning Goals for Part 1:\n",
        "1. Understand what POS tagging does\n",
        "2. Use NLTK and SpaCy for basic tagging\n",
        "3. Interpret and compare different tag outputs\n",
        "4. Explore word ambiguity with real examples\n",
        "5. Compare different tagging approaches\n"
      ]
    },
    {
      "cell_type": "markdown",
      "id": "76538fce",
      "metadata": {
        "id": "76538fce"
      },
      "source": [
        "\n",
        "## 🔍 Activity 1: Your First POS Tags (10 minutes)\n",
        "\n",
        "Let's start with the classic example: \"The quick brown fox jumps over the lazy dog\"\n",
        "\n",
        "This sentence contains most common parts of speech, making it perfect for learning!\n"
      ]
    },
    {
      "cell_type": "code",
      "execution_count": 6,
      "id": "6d12c1b4",
      "metadata": {
        "id": "6d12c1b4",
        "colab": {
          "base_uri": "https://localhost:8080/"
        },
        "outputId": "d09b693a-df07-412d-aa5b-a8d522d9e8d5"
      },
      "outputs": [
        {
          "output_type": "stream",
          "name": "stdout",
          "text": [
            "Original sentence: The quick brown fox jumps over the lazy dog\n",
            "\n",
            "Tokens: ['The', 'quick', 'brown', 'fox', 'jumps', 'over', 'the', 'lazy', 'dog']\n",
            "\n",
            "POS Tags:\n",
            "  The      -> DT\n",
            "  quick    -> JJ\n",
            "  brown    -> NN\n",
            "  fox      -> NN\n",
            "  jumps    -> VBZ\n",
            "  over     -> IN\n",
            "  the      -> DT\n",
            "  lazy     -> JJ\n",
            "  dog      -> NN\n"
          ]
        }
      ],
      "source": [
        "# Let's start with a classic example\n",
        "sentence = \"The quick brown fox jumps over the lazy dog\"\n",
        "\n",
        "# Download punkt_tab if missing\n",
        "nltk.download('punkt_tab', quiet=True)\n",
        "# Download averaged_perceptron_tagger_eng if missing\n",
        "nltk.download('averaged_perceptron_tagger_eng', quiet=True)\n",
        "\n",
        "\n",
        "# TODO: Use NLTK to tokenize and tag the sentence\n",
        "# Hint: Use nltk.word_tokenize() and nltk.pos_tag()\n",
        "tokens = nltk.word_tokenize(sentence)\n",
        "pos_tags = nltk.pos_tag(tokens)\n",
        "\n",
        "print(\"Original sentence:\", sentence)\n",
        "print(\"\\nTokens:\", tokens)\n",
        "print(\"\\nPOS Tags:\")\n",
        "for word, tag in pos_tags:\n",
        "    print(f\"  {word:8} -> {tag}\")"
      ]
    },
    {
      "cell_type": "markdown",
      "id": "555b5f5d",
      "metadata": {
        "id": "555b5f5d"
      },
      "source": [
        "\n",
        "### 🤔 Quick Questions:\n",
        "1. What does 'DT' mean? What about 'JJ'? DT seems to classify only words like 'the' while JJ is more from the looks of it to classify adjectives like shown, such as quick.\n",
        "2. Why do you think 'brown' and 'lazy' have the same tag? In my output it seems that they do not have the same tag but if it did id assume it would be JJ as brown is also considered an adjective.\n",
        "3. Can you guess what 'VBZ' represents? VBZ more than likely means it classifies Verbs.\n",
        "\n",
        "*Hint: Think about the grammatical role each word plays in the sentence!*\n"
      ]
    },
    {
      "cell_type": "markdown",
      "id": "f3045611",
      "metadata": {
        "id": "f3045611"
      },
      "source": [
        "\n",
        "## 🚀 Activity 2: SpaCy vs NLTK Showdown (10 minutes)\n",
        "\n",
        "Now let's see how SpaCy handles the same sentence. SpaCy uses cleaner, more intuitive tag names.\n"
      ]
    },
    {
      "cell_type": "code",
      "execution_count": 8,
      "id": "a9669b15",
      "metadata": {
        "id": "a9669b15",
        "colab": {
          "base_uri": "https://localhost:8080/"
        },
        "outputId": "09ab5d1c-deb2-49bf-b225-597805675323"
      },
      "outputs": [
        {
          "output_type": "stream",
          "name": "stdout",
          "text": [
            "SpaCy POS Tags:\n",
            "  The      -> DET    (DT)\n",
            "  quick    -> ADJ    (JJ)\n",
            "  brown    -> ADJ    (JJ)\n",
            "  fox      -> NOUN   (NN)\n",
            "  jumps    -> VERB   (VBZ)\n",
            "  over     -> ADP    (IN)\n",
            "  the      -> DET    (DT)\n",
            "  lazy     -> ADJ    (JJ)\n",
            "  dog      -> NOUN   (NN)\n",
            "\n",
            "==================================================\n",
            "COMPARISON:\n",
            "==================================================\n",
            "Word       NLTK     SpaCy     \n",
            "------------------------------\n",
            "The        DT       DET       \n",
            "quick      JJ       ADJ       \n",
            "brown      NN       ADJ       \n",
            "fox        NN       NOUN      \n",
            "jumps      VBZ      VERB      \n",
            "over       IN       ADP       \n",
            "the        DT       DET       \n",
            "lazy       JJ       ADJ       \n",
            "dog        NN       NOUN      \n"
          ]
        }
      ],
      "source": [
        "# TODO: Process the same sentence with SpaCy\n",
        "# Hint: Use nlp(sentence) and access .text and .pos_ attributes\n",
        "doc = nlp(sentence)\n",
        "\n",
        "print(\"SpaCy POS Tags:\")\n",
        "for token in doc:\n",
        "    print(f\"  {token.text:8} -> {token.pos_:6} ({token.tag_})\")\n",
        "\n",
        "print(\"\\n\" + \"=\"*50)\n",
        "print(\"COMPARISON:\")\n",
        "print(\"=\"*50)\n",
        "\n",
        "# Let's compare side by side\n",
        "nltk_tags = nltk.pos_tag(nltk.word_tokenize(sentence))\n",
        "spacy_doc = nlp(sentence)\n",
        "\n",
        "print(f\"{'Word':10} {'NLTK':8} {'SpaCy':10}\")\n",
        "print(\"-\" * 30)\n",
        "for i, (word, nltk_tag) in enumerate(nltk_tags):\n",
        "    spacy_tag = spacy_doc[i].pos_\n",
        "    print(f\"{word:10} {nltk_tag:8} {spacy_tag:10}\")"
      ]
    },
    {
      "cell_type": "markdown",
      "id": "889c2fcc",
      "metadata": {
        "id": "889c2fcc"
      },
      "source": [
        "\n",
        "### 🎯 Discussion Points:\n",
        "- Which tags are easier to understand: NLTK's or SpaCy's? It is much easier to understand SpaCy's as it directly tells me what each tag is such as \"noun\" or \"adjective\"\n",
        "Do you notice any differences in how they tag the same words? Yes, they provide more insight. Instead of quickly just tagging it as JJ, they tag it as ADJ, which makes more sense as ADJ clearly means Adjective, while JJ can be a little more confusing at first.\n",
        "- Which system would you prefer for a beginner? Why? I would prefer SpaCy more for a beginner as it is more detailed as to what each tag means making it easier to understand what is going on.\n"
      ]
    },
    {
      "cell_type": "markdown",
      "id": "1d773576",
      "metadata": {
        "id": "1d773576"
      },
      "source": [
        "\n",
        "## 🎭 Activity 3: The Ambiguity Challenge (15 minutes)\n",
        "\n",
        "Here's where things get interesting! Many words can be different parts of speech depending on context. Let's explore this with some tricky examples.\n"
      ]
    },
    {
      "cell_type": "code",
      "execution_count": 13,
      "id": "4de9076f",
      "metadata": {
        "id": "4de9076f",
        "colab": {
          "base_uri": "https://localhost:8080/"
        },
        "outputId": "9d712785-cb60-4c75-cec4-6ea1c01a9f0b"
      },
      "outputs": [
        {
          "output_type": "stream",
          "name": "stdout",
          "text": [
            "🎭 AMBIGUITY EXPLORATION\n",
            "========================================\n",
            "\n",
            "Sentence: I will lead the team to victory.\n",
            "  🎯 'lead' is tagged as: VB\n",
            "\n",
            "Sentence: The lead pipe is heavy.\n",
            "  🎯 'lead' is tagged as: NN\n",
            "\n",
            "Sentence: She took the lead in the race.\n",
            "  🎯 'lead' is tagged as: NN\n",
            "\n",
            "Sentence: The bank approved my loan.\n",
            "  🎯 'bank' is tagged as: NN\n",
            "\n",
            "Sentence: We sat by the river bank.\n",
            "  🎯 'bank' is tagged as: NN\n",
            "\n",
            "Sentence: I bank with Chase.\n",
            "  🎯 'bank' is tagged as: NN\n",
            "\n",
            "Sentence: Can you spot me ten dollars.\n",
            "  🎯 'spot' is tagged as: VB\n",
            "\n",
            "Sentence: What spot do you want to take.\n",
            "  🎯 'spot' is tagged as: NN\n"
          ]
        }
      ],
      "source": [
        "\n",
        "# Ambiguous words in different contexts\n",
        "ambiguous_sentences = [\n",
        "    \"I will lead the team to victory.\",           # lead = verb\n",
        "    \"The lead pipe is heavy.\",                    # lead = noun (metal)\n",
        "    \"She took the lead in the race.\",            # lead = noun (position)\n",
        "    \"The bank approved my loan.\",                # bank = noun (financial)\n",
        "    \"We sat by the river bank.\",                 # bank = noun (shore)\n",
        "    \"I bank with Chase.\",\n",
        "    \"Can you spot me ten dollars.\",\n",
        "    \"What spot do you want to take.\",]          # bank = verb\n",
        "\n",
        "                                                #spot = verb (to lend)\n",
        "                                                #spot = noun (location)\n",
        "print(\"🎭 AMBIGUITY EXPLORATION\")\n",
        "print(\"=\" * 40)\n",
        "\n",
        "for sentence in ambiguous_sentences:\n",
        "    print(f\"\\nSentence: {sentence}\")\n",
        "\n",
        "    # TODO: Tag each sentence and find the ambiguous word\n",
        "    # Focus on 'lead' and 'bank' - what tags do they get?\n",
        "    tokens = nltk.word_tokenize(sentence)\n",
        "    tags = nltk.pos_tag(tokens)\n",
        "\n",
        "    # Find and highlight the key word\n",
        "    for word, tag in tags:\n",
        "        if word.lower() in ['lead', 'bank', 'spot']:\n",
        "            print(f\"  🎯 '{word}' is tagged as: {tag}\")\n"
      ]
    },
    {
      "cell_type": "markdown",
      "id": "b299cc67",
      "metadata": {
        "id": "b299cc67"
      },
      "source": [
        "\n",
        "### 🧠 Think About It:\n",
        "1. How does the computer know the difference between \"lead\" (metal) and \"lead\" (guide)? I would say a big factor that has to do with that is context throughout the sentence.\n",
        "2. What clues in the sentence help determine the correct part of speech? The word \"will\" before the word \"lead\" would insinuate a verb, correcting the part of speech.\n",
        "3. Can you think of other words that change meaning based on context? Yes i thought of the word 'spot' as shown in my code.\n",
        "\n",
        "**Try This**: Add your own ambiguous sentences to the list above and see how the tagger handles them!\n"
      ]
    },
    {
      "cell_type": "markdown",
      "id": "cd61b43a",
      "metadata": {
        "id": "cd61b43a"
      },
      "source": [
        "\n",
        "## 📊 Activity 4: Tag Set Showdown (10 minutes)\n",
        "\n",
        "NLTK can use different tag sets. Let's compare the detailed Penn Treebank tags (~45 tags) with the simpler Universal Dependencies tags (~17 tags).\n"
      ]
    },
    {
      "cell_type": "code",
      "execution_count": 17,
      "id": "9fd01009",
      "metadata": {
        "id": "9fd01009",
        "colab": {
          "base_uri": "https://localhost:8080/"
        },
        "outputId": "df71f08d-8f72-4437-bc37-eb41f4022563"
      },
      "outputs": [
        {
          "output_type": "stream",
          "name": "stdout",
          "text": [
            "TAG SET COMPARISON\n",
            "==================================================\n",
            "Word            Penn Treebank   Universal \n",
            "--------------------------------------------------\n",
            "The             DT              DET       \n",
            "brilliant       JJ              ADJ       \n",
            "students        NNS             NOUN      \n",
            "quickly         RB              ADV       \n",
            "solved          VBD             VERB      \n",
            "the             DT              DET       \n",
            "challenging     VBG             VERB      \n",
            "programming     JJ              ADJ       \n",
            "assignment      NN              NOUN      \n",
            ".               .               .         \n",
            "\n",
            "📊 Penn Treebank uses 8 different tags\n",
            "📊 Universal uses 6 different tags\n"
          ]
        }
      ],
      "source": [
        "# Compare different tag sets\n",
        "test_sentence = \"The brilliant students quickly solved the challenging programming assignment.\"\n",
        "\n",
        "# TODO: Get tags using both Penn Treebank and Universal tagsets\n",
        "# Hint: Use tagset='universal' parameter for universal tags\n",
        "penn_tags = nltk.pos_tag(nltk.word_tokenize(test_sentence))\n",
        "universal_tags = nltk.pos_tag(nltk.word_tokenize(test_sentence), tagset='universal')\n",
        "\n",
        "print(\"TAG SET COMPARISON\")\n",
        "print(\"=\" * 50)\n",
        "print(f\"{'Word':15} {'Penn Treebank':15} {'Universal':10}\")\n",
        "print(\"-\" * 50)\n",
        "\n",
        "# TODO: Print comparison table\n",
        "# Hint: Zip the two tag lists together\n",
        "for (word, penn_tag), (word, univ_tag) in zip(penn_tags, universal_tags):\n",
        "    print(f\"{word:15} {penn_tag:15} {univ_tag:10}\")\n",
        "\n",
        "# Let's also visualize the tag distribution\n",
        "penn_tag_counts = Counter([tag for word, tag in penn_tags])\n",
        "univ_tag_counts = Counter([tag for word, tag in universal_tags])\n",
        "\n",
        "print(f\"\\n📊 Penn Treebank uses {len(penn_tag_counts)} different tags\")\n",
        "print(f\"📊 Universal uses {len(univ_tag_counts)} different tags\")"
      ]
    },
    {
      "cell_type": "markdown",
      "id": "2fab1efe",
      "metadata": {
        "id": "2fab1efe"
      },
      "source": [
        "\n",
        "### 🤔 Reflection Questions:\n",
        "1. Which tag set is more detailed? Which is simpler? Enter your answer below\n",
        "Universal is by far more detailed and simpler.\n",
        "2. When might you want detailed tags vs. simple tags? Enter your answer below\n",
        "I would want a detailed tag when my whole point is to tag the words correctly but a simple tag when i want to catch errors gramatically quickly.\n",
        "3. If you were building a search engine, which would you choose? Why? Enter your answer below\n",
        "If i were building a serch engine i would want to use Universal tags because not only is it simple but also fast giving enough infor to help understand what words would mean in general.\n",
        "---\n"
      ]
    },
    {
      "cell_type": "markdown",
      "id": "e2e2ce7d",
      "metadata": {
        "id": "e2e2ce7d"
      },
      "source": [
        "\n",
        "---\n",
        "# 🎓 End of Part 1: In-Class Exercise\n",
        "\n",
        "Great work! You've learned the fundamentals of POS tagging and gotten hands-on experience with both NLTK and SpaCy.\n",
        "\n",
        "## What You've Accomplished:\n",
        "✅ Used NLTK and SpaCy for basic POS tagging  \n",
        "✅ Interpreted different tag systems  \n",
        "✅ Explored word ambiguity and context  \n",
        "✅ Compared different tagging approaches  \n",
        "\n",
        "## 🏠 Ready for Part 2?\n",
        "The homework lab will challenge you with real-world applications, messy data, and advanced techniques. You'll analyze customer service transcripts, handle informal language, and benchmark different taggers.\n",
        "\n",
        "**Take a break, then dive into Part 2 when you're ready!**\n",
        "\n",
        "---\n"
      ]
    },
    {
      "cell_type": "markdown",
      "id": "571e9ac8",
      "metadata": {
        "id": "571e9ac8"
      },
      "source": [
        "\n",
        "# 🏠 PART 2: HOMEWORK LAB\n",
        "## Real-World POS Tagging Challenges\n",
        "\n",
        "Welcome to the advanced section! Here you'll tackle the messy, complex world of real text data. This is where POS tagging gets interesting (and challenging)!\n",
        "\n",
        "## Learning Goals for Part 2:\n",
        "1. Process real-world, messy text data\n",
        "2. Handle speech transcripts and informal language\n",
        "3. Analyze customer service scenarios\n",
        "4. Benchmark and compare different taggers\n",
        "5. Understand limitations and edge cases\n",
        "\n",
        "## 📋 Submission Requirements:\n",
        "- Complete all exercises with working code\n",
        "- Answer all reflection questions\n",
        "- Include at least one visualization\n",
        "- Submit your completed notebook file\n",
        "\n",
        "---\n"
      ]
    },
    {
      "cell_type": "markdown",
      "id": "15ae7ff1",
      "metadata": {
        "id": "15ae7ff1"
      },
      "source": [
        "\n",
        "## 🌍 Lab Exercise 1: Messy Text Challenge (25 minutes)\n",
        "\n",
        "Real-world text is nothing like textbook examples! Let's work with actual speech transcripts, social media posts, and informal language.\n"
      ]
    },
    {
      "cell_type": "code",
      "execution_count": 19,
      "id": "cacc5fe7",
      "metadata": {
        "id": "cacc5fe7",
        "colab": {
          "base_uri": "https://localhost:8080/"
        },
        "outputId": "a8fa3622-b1e4-412e-baa1-565734fdfdb6"
      },
      "outputs": [
        {
          "output_type": "stream",
          "name": "stdout",
          "text": [
            "🔍 PROCESSING MESSY TEXT\n",
            "============================================================\n",
            "\n",
            "📝 Sample 1: Um, so like, I was gonna say that, uh, the system ain't working right, you know?\n",
            "----------------------------------------\n",
            "NLTK problematic words: ['Um']\n",
            "SpaCy problematic words: []\n",
            "NLTK success rate: 95.8%\n",
            "SpaCy success rate: 100.0%\n",
            "\n",
            "📝 Sample 2: OMG this app is sooo buggy rn 😤 cant even login smh\n",
            "----------------------------------------\n",
            "NLTK problematic words: ['😤']\n",
            "SpaCy problematic words: []\n",
            "NLTK success rate: 91.7%\n",
            "SpaCy success rate: 100.0%\n",
            "\n",
            "📝 Sample 3: Yeah hi um I'm calling because my internet's been down since like yesterday and I've tried unplugging the router thingy but it's still not working\n",
            "----------------------------------------\n",
            "NLTK problematic words: [\"'s\"]\n",
            "SpaCy problematic words: []\n",
            "NLTK success rate: 96.6%\n",
            "SpaCy success rate: 100.0%\n",
            "\n",
            "📝 Sample 4: Y'all better fix this ASAP cuz I'm bout to switch providers fr fr\n",
            "----------------------------------------\n",
            "NLTK problematic words: ['ASAP']\n",
            "SpaCy problematic words: []\n",
            "NLTK success rate: 92.9%\n",
            "SpaCy success rate: 100.0%\n",
            "\n",
            "📝 Sample 5: The API endpoint is returning a 500 error but idk why it's happening tbh\n",
            "----------------------------------------\n",
            "NLTK problematic words: ['API']\n",
            "SpaCy problematic words: []\n",
            "NLTK success rate: 93.3%\n",
            "SpaCy success rate: 100.0%\n"
          ]
        }
      ],
      "source": [
        "# Real-world messy text samples\n",
        "messy_texts = [\n",
        "    # Speech transcript with disfluencies\n",
        "    \"Um, so like, I was gonna say that, uh, the system ain't working right, you know?\",\n",
        "\n",
        "    # Social media style\n",
        "    \"OMG this app is sooo buggy rn 😤 cant even login smh\",\n",
        "\n",
        "    # Customer service transcript\n",
        "    \"Yeah hi um I'm calling because my internet's been down since like yesterday and I've tried unplugging the router thingy but it's still not working\",\n",
        "\n",
        "    # Informal contractions and slang\n",
        "    \"Y'all better fix this ASAP cuz I'm bout to switch providers fr fr\",\n",
        "\n",
        "    # Technical jargon mixed with casual speech\n",
        "    \"The API endpoint is returning a 500 error but idk why it's happening tbh\"\n",
        "]\n",
        "\n",
        "print(\"🔍 PROCESSING MESSY TEXT\")\n",
        "print(\"=\" * 60)\n",
        "\n",
        "# TODO: Process each messy text sample\n",
        "# 1. Use both NLTK and SpaCy\n",
        "# 2. Count how many words each tagger fails to recognize properly\n",
        "# 3. Identify problematic words (slang, contractions, etc.)\n",
        "\n",
        "for i, text in enumerate(messy_texts, 1):\n",
        "    print(f\"\\n📝 Sample {i}: {text}\")\n",
        "    print(\"-\" * 40)\n",
        "\n",
        "    # NLTK processing\n",
        "    nltk_tokens = nltk.word_tokenize(text)\n",
        "    nltk_tags = nltk.pos_tag(nltk_tokens)\n",
        "\n",
        "    # TODO: SpaCy processing\n",
        "    spacy_doc = nlp(text)\n",
        "\n",
        "    # TODO: Find problematic words (tagged as 'X' or unknown)\n",
        "    problematic_nltk = [word for word, tag in nltk_tags if tag in ['NNP', 'NNPS', 'POS', 'SYM', 'LS', 'FW']] # Using common problematic tags for NLTK\n",
        "    problematic_spacy = [token.text for token in spacy_doc if token.pos_ == 'X']\n",
        "\n",
        "    print(f\"NLTK problematic words: {problematic_nltk}\")\n",
        "    print(f\"SpaCy problematic words: {problematic_spacy}\")\n",
        "\n",
        "    # TODO: Calculate success rate\n",
        "    nltk_success_rate = (len(nltk_tags) - len(problematic_nltk)) / len(nltk_tags) if len(nltk_tags) > 0 else 0\n",
        "    spacy_success_rate = (len(spacy_doc) - len(problematic_spacy)) / len(spacy_doc) if len(spacy_doc) > 0 else 0\n",
        "\n",
        "    print(f\"NLTK success rate: {nltk_success_rate:.1%}\")\n",
        "    print(f\"SpaCy success rate: {spacy_success_rate:.1%}\")"
      ]
    },
    {
      "cell_type": "markdown",
      "id": "35a387a8",
      "metadata": {
        "id": "35a387a8"
      },
      "source": [
        "\n",
        "### 🎯 Analysis Questions:\n",
        "1. Which tagger handles informal language better? I would say SpaCy handles informal language better as it is at a constant 100.00%\n",
        "2. What types of words cause the most problems? I would say the ones that cost the most problems would be slang words or words such as \"um\".\n",
        "3. How might you preprocess text to improve tagging accuracy? I would have to explain slang for the most part, such as smh = shaking my head.\n",
        "4. What are the implications for real-world applications? I would say things like chat bots would need robust handling of things such as slang or typo.\n"
      ]
    },
    {
      "cell_type": "markdown",
      "id": "966c3a77",
      "metadata": {
        "id": "966c3a77"
      },
      "source": [
        "\n",
        "## 📞 Lab Exercise 2: Customer Service Analysis Case Study (30 minutes)\n",
        "\n",
        "You're working for a tech company that receives thousands of customer service calls daily. Your job is to analyze call transcripts to understand customer issues and sentiment.\n",
        "\n",
        "**Business Goal**: Automatically categorize customer problems and identify emotional language.\n"
      ]
    },
    {
      "cell_type": "code",
      "execution_count": 23,
      "id": "c7a5ed54",
      "metadata": {
        "id": "c7a5ed54",
        "colab": {
          "base_uri": "https://localhost:8080/"
        },
        "outputId": "efde3837-6328-47a4-bdff-4feec3f1bb15"
      },
      "outputs": [
        {
          "output_type": "stream",
          "name": "stdout",
          "text": [
            "\n",
            "🎧 Analyzing CALL_001\n",
            "Category: account_access\n",
            "Transcript: Hi, I'm really frustrated because my account got locked and I can't access my files. I've been trying for hours and nothing works. This is completely unacceptable.\n",
            "--------------------------------------------------\n",
            "Emotional adjectives: ['frustrated', 'unacceptable']\n",
            "Action verbs: ['locked', 'access', 'trying', 'works']\n",
            "Problem nouns: ['account', 'files']\n",
            "Sentiment score: -2\n",
            "\n",
            "🎧 Analyzing CALL_002\n",
            "Category: technical_issue\n",
            "Transcript: Hello, I love your service but I'm having a small issue with the mobile app. It crashes whenever I try to upload photos. Could you please help me fix this?\n",
            "--------------------------------------------------\n",
            "Emotional adjectives: ['small', 'mobile']\n",
            "Action verbs: ['love', 'having', 'crashes', 'try', 'upload', 'help', 'fix']\n",
            "Problem nouns: ['issue', 'app']\n",
            "Sentiment score: 1\n",
            "\n",
            "🎧 Analyzing CALL_003\n",
            "Category: billing\n",
            "Transcript: Your billing system charged me twice this month! I want a refund immediately. This is ridiculous and I'm considering canceling my subscription.\n",
            "--------------------------------------------------\n",
            "Emotional adjectives: ['ridiculous']\n",
            "Action verbs: ['charged', 'want', 'considering', 'canceling']\n",
            "Problem nouns: ['billing', 'system']\n",
            "Sentiment score: -3\n",
            "\n",
            "🎧 Analyzing CALL_004\n",
            "Category: user_guidance\n",
            "Transcript: I'm confused about how to use the new features you added. The interface changed and I can't find anything. Can someone walk me through it?\n",
            "--------------------------------------------------\n",
            "Emotional adjectives: ['confused', 'new']\n",
            "Action verbs: ['use', 'added', 'changed', 'find', 'walk']\n",
            "Problem nouns: ['features', 'interface']\n",
            "Sentiment score: -1\n"
          ]
        }
      ],
      "source": [
        "# Simulated customer service call transcripts\n",
        "customer_transcripts = [\n",
        "    {\n",
        "        'id': 'CALL_001',\n",
        "        'transcript': \"Hi, I'm really frustrated because my account got locked and I can't access my files. I've been trying for hours and nothing works. This is completely unacceptable.\",\n",
        "        'category': 'account_access'\n",
        "    },\n",
        "    {\n",
        "        'id': 'CALL_002',\n",
        "        'transcript': \"Hello, I love your service but I'm having a small issue with the mobile app. It crashes whenever I try to upload photos. Could you please help me fix this?\",\n",
        "        'category': 'technical_issue'\n",
        "    },\n",
        "    {\n",
        "        'id': 'CALL_003',\n",
        "        'transcript': \"Your billing system charged me twice this month! I want a refund immediately. This is ridiculous and I'm considering canceling my subscription.\",\n",
        "        'category': 'billing'\n",
        "    },\n",
        "    {\n",
        "        'id': 'CALL_004',\n",
        "        'transcript': \"I'm confused about how to use the new features you added. The interface changed and I can't find anything. Can someone walk me through it?\",\n",
        "        'category': 'user_guidance'\n",
        "    }\n",
        "]\n",
        "\n",
        "# TODO: Analyze each transcript for:\n",
        "# 1. Emotional language (adjectives that indicate sentiment)\n",
        "# 2. Action words (verbs that indicate what customer wants)\n",
        "# 3. Problem indicators (nouns related to issues)\n",
        "\n",
        "analysis_results = []\n",
        "\n",
        "# Define lists of positive and negative sentiment words\n",
        "positive_sentiment_words = ['love', 'great', 'good', 'happy', 'please']\n",
        "negative_sentiment_words = ['frustrated', 'unacceptable', 'ridiculous', 'buggy', 'down', 'issue', 'charged', 'canceling', 'confused', 'can\\'t']\n",
        "\n",
        "\n",
        "\n",
        "for call in customer_transcripts:\n",
        "    print(f\"\\n🎧 Analyzing {call['id']}\")\n",
        "    print(f\"Category: {call['category']}\")\n",
        "    print(f\"Transcript: {call['transcript']}\")\n",
        "    print(\"-\" * 50)\n",
        "\n",
        "    # TODO: Process with SpaCy (it's better for this task)\n",
        "    doc = nlp(call['transcript'])\n",
        "\n",
        "    # TODO: Extract different types of words\n",
        "    emotional_adjectives = [token.text for token in doc if token.pos_ == 'ADJ']\n",
        "    action_verbs = [token.text for token in doc if token.pos_ == 'VERB']\n",
        "    problem_nouns = [token.text for token in doc if token.pos_ == 'NOUN' and any(problem in token.text.lower() for problem in ['account', 'files', 'issue', 'app', 'billing', 'system', 'features', 'interface'])]\n",
        "\n",
        "    # TODO: Calculate sentiment indicators\n",
        "    positive_words = [token.text.lower() for token in doc if token.text.lower() in positive_sentiment_words]\n",
        "    negative_words = [token.text.lower() for token in doc if token.text.lower() in negative_sentiment_words]\n",
        "\n",
        "\n",
        "\n",
        "    result = {\n",
        "        'call_id': call['id'],\n",
        "        'category': call['category'],\n",
        "        'emotional_adjectives': emotional_adjectives,\n",
        "        'action_verbs': action_verbs,\n",
        "        'problem_nouns': problem_nouns,\n",
        "        'sentiment_score': len(positive_words) - len(negative_words)}\n",
        "\n",
        "    analysis_results.append(result)\n",
        "\n",
        "    print(f\"Emotional adjectives: {emotional_adjectives}\")\n",
        "    print(f\"Action verbs: {action_verbs}\")\n",
        "    print(f\"Problem nouns: {problem_nouns}\")\n",
        "    print(f\"Sentiment score: {result['sentiment_score']}\")"
      ]
    },
    {
      "cell_type": "code",
      "execution_count": 36,
      "id": "6db420ac",
      "metadata": {
        "id": "6db420ac",
        "colab": {
          "base_uri": "https://localhost:8080/",
          "height": 1000
        },
        "outputId": "9d52425a-4071-4aad-926b-c9fafeaec9b5"
      },
      "outputs": [
        {
          "output_type": "stream",
          "name": "stdout",
          "text": [
            "Index(['call_id', 'category', 'emotional_adjectives', 'action_verbs',\n",
            "       'problem_nouns', 'sentiment_score'],\n",
            "      dtype='object')\n"
          ]
        },
        {
          "output_type": "display_data",
          "data": {
            "text/plain": [
              "<Figure size 1500x1000 with 4 Axes>"
            ],
            "image/png": "[encoded data removed]"
          },
          "metadata": {}
        }
      ],
      "source": [
        "\n",
        "# TODO: Create a summary visualization\n",
        "# Hint: Use matplotlib or seaborn to create charts\n",
        "\n",
        "import matplotlib.pyplot as plt\n",
        "import pandas as pd\n",
        "import seaborn as sns\n",
        "from collections import Counter\n",
        "\n",
        "# Convert results to DataFrame for easier analysis\n",
        "\n",
        "# TODO: Create visualizations\n",
        "# 1. Sentiment scores by category\n",
        "# 2. Most common emotional adjectives\n",
        "# 3. Action verbs frequency\n",
        "print(df.columns)\n",
        "fig, axes = plt.subplots(2, 2, figsize=(15, 10))\n",
        "\n",
        "# TODO: Plot 1 - Sentiment by category\n",
        "category_setiment = df.groupby('category')['sentiment_score'].mean().sort_values()\n",
        "axes[0,0].barh(category_setiment.index, category_setiment.values)\n",
        "axes[0,0].set_title('Average Sentiment Score by Category')\n",
        "axes[0,0].set_xlabel('Average Sentiment Score')\n",
        "axes[0,0].set_ylabel('Category')\n",
        "\n",
        "# TODO: Plot 2 - Word frequency analysis\n",
        "adj_counter = Counter(word for words in df['emotional_adjectives'].dropna() for word in words)\n",
        "common_adjs = adj_counter.most_common(10)\n",
        "adj_words, adj_freqs = zip(*common_adjs)\n",
        "axes[0,1].barh(adj_words, adj_freqs)\n",
        "axes[0,1].set_title('Most Common Emotional Adjectives')\n",
        "axes[0,1].set_xlabel('Frequency')\n",
        "\n",
        "# TODO: Plot 3 - Problem categorization\n",
        "# Flatten and count problem nouns\n",
        "problem_counter = Counter(word for words in df['problem_nouns'].dropna() for word in words)\n",
        "common_problems = problem_counter.most_common(5)\n",
        "labels, sizes = zip(*common_problems)\n",
        "axes[1,0].pie(sizes, labels=labels, autopct='%1.1f%%')\n",
        "axes[1,0].set_title('Most Mentioned Problem Nouns')\n",
        "\n",
        "\n",
        "# TODO: Plot 4 - Urgency analysis\n",
        "# Create urgency-like bins based on sentiment\n",
        "urgency_bins = pd.cut(df['sentiment_score'], bins=[-1.0, -0.25, 0.25, 1.0], labels=['High', 'Medium', 'Low'])\n",
        "urgency_counts = urgency_bins.value_counts().sort_index()\n",
        "axes[1,1].bar(urgency_counts.index, urgency_counts.values, color='orange')\n",
        "axes[1,1].set_title('🕑 Inferred Urgency from Sentiment')\n",
        "axes[1,1].set_ylabel('Count')\n",
        "\n",
        "\n",
        "plt.tight_layout()\n",
        "plt.show()"
      ]
    },
    {
      "cell_type": "markdown",
      "id": "8c9a271c",
      "metadata": {
        "id": "8c9a271c"
      },
      "source": [
        "\n",
        "### 💼 Business Impact Questions:\n",
        "1. How could this analysis help prioritize customer service tickets? This would give insight into wchich issyes have not only low sentiment but also high urgency this would help focus on critical casses first.\n",
        "2. What patterns do you notice in different problem categories? If my code is correct the partern seems to be that they all equal to the same percantage.\n",
        "3. How might you automate the routing of calls based on POS analysis?  by knowing action verbs and problem nouns, the system could tag and direct tickets to certain teams.\n",
        "4. What are the limitations of this approach? I would say messy grammar and slang could lead to misclassification.\n"
      ]
    },
    {
      "cell_type": "markdown",
      "id": "22733d79",
      "metadata": {
        "id": "22733d79"
      },
      "source": [
        "\n",
        "## ⚡ Lab Exercise 3: Tagger Performance Benchmarking (20 minutes)\n",
        "\n",
        "Let's scientifically compare different POS taggers on various types of text. This will help you understand when to use which tool.\n"
      ]
    },
    {
      "cell_type": "code",
      "execution_count": 38,
      "id": "39ac25fc",
      "metadata": {
        "id": "39ac25fc",
        "colab": {
          "base_uri": "https://localhost:8080/",
          "height": 1000
        },
        "outputId": "4b77ddbb-aecf-4811-b456-b37f0b2a886a"
      },
      "outputs": [
        {
          "output_type": "stream",
          "name": "stdout",
          "text": [
            "\n",
            "🧪 Testing FORMAL text:\n",
            "Text: The research methodology employed in this study follows established academic protocols.\n",
            "------------------------------------------------------------\n",
            "NLTK Penn time: 0.0017s, Unknown: 0\n",
            "NLTK Univ time: 0.0004s, Unknown: 0\n",
            "SpaCy time: 0.0154s, Unknown: 0\n",
            "\n",
            "🧪 Testing INFORMAL text:\n",
            "Text: lol this study is kinda weird but whatever works i guess 🤷‍♀️\n",
            "------------------------------------------------------------\n",
            "NLTK Penn time: 0.0017s, Unknown: 0\n",
            "NLTK Univ time: 0.0006s, Unknown: 0\n",
            "SpaCy time: 0.0099s, Unknown: 0\n",
            "\n",
            "🧪 Testing TECHNICAL text:\n",
            "Text: The API returns a JSON response with HTTP status code 200 upon successful authentication.\n",
            "------------------------------------------------------------\n",
            "NLTK Penn time: 0.0015s, Unknown: 3\n",
            "NLTK Univ time: 0.0009s, Unknown: 0\n",
            "SpaCy time: 0.0112s, Unknown: 0\n",
            "\n",
            "🧪 Testing CONVERSATIONAL text:\n",
            "Text: So like, when you click that button thingy, it should totally work, right?\n",
            "------------------------------------------------------------\n",
            "NLTK Penn time: 0.0019s, Unknown: 0\n",
            "NLTK Univ time: 0.0007s, Unknown: 0\n",
            "SpaCy time: 0.0097s, Unknown: 0\n",
            "\n",
            "🧪 Testing MIXED text:\n",
            "Text: OMG the algorithm's performance is absolutely terrible! The accuracy dropped to 23% wtf\n",
            "------------------------------------------------------------\n",
            "NLTK Penn time: 0.0023s, Unknown: 1\n",
            "NLTK Univ time: 0.0006s, Unknown: 0\n",
            "SpaCy time: 0.0096s, Unknown: 0\n"
          ]
        },
        {
          "output_type": "display_data",
          "data": {
            "text/plain": [
              "<Figure size 1200x600 with 1 Axes>"
            ],
            "image/png": "[encoded data removed]"
          },
          "metadata": {}
        },
        {
          "output_type": "display_data",
          "data": {
            "text/plain": [
              "<Figure size 1200x600 with 1 Axes>"
            ],
            "image/png": "[encoded data removed]"
          },
          "metadata": {}
        }
      ],
      "source": [
        "import time\n",
        "from collections import defaultdict\n",
        "import nltk\n",
        "import spacy\n",
        "\n",
        "# Different text types for testing\n",
        "test_texts = {\n",
        "    'formal': \"The research methodology employed in this study follows established academic protocols.\",\n",
        "    'informal': \"lol this study is kinda weird but whatever works i guess 🤷‍♀️\",\n",
        "    'technical': \"The API returns a JSON response with HTTP status code 200 upon successful authentication.\",\n",
        "    'conversational': \"So like, when you click that button thingy, it should totally work, right?\",\n",
        "    'mixed': \"OMG the algorithm's performance is absolutely terrible! The accuracy dropped to 23% wtf\"\n",
        "}\n",
        "\n",
        "# TODO: Benchmark different taggers\n",
        "# Test: NLTK Penn Treebank, NLTK Universal, SpaCy\n",
        "# Metrics: Speed, tag consistency, handling of unknown words\n",
        "\n",
        "benchmark_results = defaultdict(list)\n",
        "\n",
        "# Load SpaCy model if not already loaded\n",
        "try:\n",
        "    nlp\n",
        "except NameError:\n",
        "    nlp = spacy.load('en_core_web_sm')\n",
        "\n",
        "\n",
        "for text_type, text in test_texts.items():\n",
        "    print(f\"\\n🧪 Testing {text_type.upper()} text:\")\n",
        "    print(f\"Text: {text}\")\n",
        "    print(\"-\" * 60)\n",
        "\n",
        "    # TODO: NLTK Penn Treebank timing\n",
        "    start_time = time.time()\n",
        "    nltk_tokens = nltk.word_tokenize(text)\n",
        "    nltk_penn_tags = nltk.pos_tag(nltk_tokens)\n",
        "    nltk_penn_time = time.time() - start_time\n",
        "\n",
        "    # TODO: NLTK Universal timing\n",
        "    start_time = time.time()\n",
        "    nltk_univ_tags = nltk.pos_tag(nltk_tokens, tagset='universal')\n",
        "    nltk_univ_time = time.time() - start_time\n",
        "\n",
        "    # TODO: SpaCy timing\n",
        "    start_time = time.time()\n",
        "    spacy_doc = nlp(text)\n",
        "    spacy_time = time.time() - start_time\n",
        "\n",
        "    # TODO: Count unknown/problematic tags\n",
        "    nltk_unknown_penn = [word for word, tag in nltk_penn_tags if tag in ['NNP', 'NNPS', 'POS', 'SYM', 'LS', 'FW', 'UNK', 'X']]\n",
        "    nltk_unknown_univ = [word for word, tag in nltk_univ_tags if tag == 'X']\n",
        "    spacy_unknown = [token.text for token in spacy_doc if token.pos_ == 'X']\n",
        "\n",
        "\n",
        "    # Store results\n",
        "    benchmark_results[text_type] = {\n",
        "        'nltk_penn_time': nltk_penn_time,\n",
        "        'nltk_univ_time': nltk_univ_time,\n",
        "        'spacy_time': spacy_time,\n",
        "        'nltk_unknown_penn': len(nltk_unknown_penn),\n",
        "        'nltk_unknown_univ': len(nltk_unknown_univ),\n",
        "        'spacy_unknown': len(spacy_unknown)\n",
        "    }\n",
        "\n",
        "    print(f\"NLTK Penn time: {nltk_penn_time:.4f}s, Unknown: {len(nltk_unknown_penn)}\")\n",
        "    print(f\"NLTK Univ time: {nltk_univ_time:.4f}s, Unknown: {len(nltk_unknown_univ)}\")\n",
        "    print(f\"SpaCy time: {spacy_time:.4f}s, Unknown: {len(spacy_unknown)}\")\n",
        "\n",
        "# TODO: Create performance comparison visualization\n",
        "# Convert benchmark results to a DataFrame for easier plotting\n",
        "benchmark_df = pd.DataFrame.from_dict(benchmark_results, orient='index')\n",
        "benchmark_df = benchmark_df.reset_index().rename(columns={'index': 'text_type'})\n",
        "\n",
        "# Melt the DataFrame for easier plotting of times\n",
        "time_df = benchmark_df.melt(id_vars='text_type', value_vars=['nltk_penn_time', 'nltk_univ_time', 'spacy_time'], var_name='tagger', value_name='time')\n",
        "\n",
        "# Melt the DataFrame for easier plotting of unknown counts\n",
        "unknown_df = benchmark_df.melt(id_vars='text_type', value_vars=['nltk_unknown_penn', 'nltk_unknown_univ', 'spacy_unknown'], var_name='tagger', value_name='unknown_count')\n",
        "\n",
        "\n",
        "plt.figure(figsize=(12, 6))\n",
        "sns.barplot(x='text_type', y='time', hue='tagger', data=time_df)\n",
        "plt.title('POS Tagger Performance Benchmark (Time)')\n",
        "plt.ylabel('Time (s)')\n",
        "plt.xlabel('Text Type')\n",
        "plt.show()\n",
        "\n",
        "plt.figure(figsize=(12, 6))\n",
        "sns.barplot(x='text_type', y='unknown_count', hue='tagger', data=unknown_df)\n",
        "plt.title('POS Tagger Performance Benchmark (Unknown Words)')\n",
        "plt.ylabel('Number of Unknown Words')\n",
        "plt.xlabel('Text Type')\n",
        "plt.show()"
      ]
    },
    {
      "cell_type": "markdown",
      "id": "a656d62d",
      "metadata": {
        "id": "a656d62d"
      },
      "source": [
        "\n",
        "### 📊 Performance Analysis:\n",
        "1. Which tagger is fastest? Does speed matter for your use case? The fastest tagger is NLTK with Universal tag and i would say it onyl matters if i were to be tagging A LOT of texts.\n",
        "2. Which handles informal text best? I would say SpaCY handles informal text the best.\n",
        "3. How do the taggers compare on technical jargon? SpaCy is much better than NLTK  because it recognized terms like \"API\"\n",
        "4. What trade-offs do you see between speed and accuracy?\n",
        "I would say slow = more accurate (SpaCy) while fast = less accurate (NLTK)"
      ]
    },
    {
      "cell_type": "markdown",
      "id": "08244956",
      "metadata": {
        "id": "08244956"
      },
      "source": [
        "\n",
        "## 🚨 Lab Exercise 4: Edge Cases and Error Analysis (15 minutes)\n",
        "\n",
        "Every system has limitations. Let's explore the edge cases where POS taggers struggle and understand why.\n"
      ]
    },
    {
      "cell_type": "code",
      "execution_count": 43,
      "id": "b5e4119e",
      "metadata": {
        "id": "b5e4119e",
        "colab": {
          "base_uri": "https://localhost:8080/"
        },
        "outputId": "f034d4af-e111-48e4-a59a-3a4b51980aa9"
      },
      "outputs": [
        {
          "output_type": "stream",
          "name": "stdout",
          "text": [
            "🚨 EDGE CASE ANALYSIS\n",
            "==================================================\n",
            "\n",
            "🔍 Edge Case 1:\n",
            "Text: Buffalo buffalo Buffalo buffalo buffalo buffalo Buffalo buffalo.\n",
            "------------------------------\n",
            "NLTK tags: [('Buffalo', 'NNP'), ('buffalo', 'NN'), ('Buffalo', 'NNP'), ('buffalo', 'NN'), ('buffalo', 'NN'), ('buffalo', 'NN'), ('Buffalo', 'NNP'), ('buffalo', 'NN'), ('.', '.')]\n",
            "SpaCy tags: [('Buffalo', 'PROPN'), ('buffalo', 'NOUN'), ('Buffalo', 'PROPN'), ('buffalo', 'PROPN'), ('buffalo', 'PROPN'), ('buffalo', 'PROPN'), ('Buffalo', 'PROPN'), ('buffalo', 'PROPN'), ('.', 'PUNCT')]\n",
            "\n",
            "🔍 Edge Case 2:\n",
            "Text: Time flies like an arrow; fruit flies like a banana.\n",
            "------------------------------\n",
            "NLTK tags: [('Time', 'NNP'), ('flies', 'NNS'), ('like', 'IN'), ('an', 'DT'), ('arrow', 'NN'), (';', ':'), ('fruit', 'CC'), ('flies', 'NNS'), ('like', 'IN'), ('a', 'DT'), ('banana', 'NN'), ('.', '.')]\n",
            "SpaCy tags: [('Time', 'NOUN'), ('flies', 'VERB'), ('like', 'ADP'), ('an', 'DET'), ('arrow', 'NOUN'), (';', 'PUNCT'), ('fruit', 'NOUN'), ('flies', 'NOUN'), ('like', 'ADP'), ('a', 'DET'), ('banana', 'NOUN'), ('.', 'PUNCT')]\n",
            "\n",
            "🔍 Edge Case 3:\n",
            "Text: The man the boat the river.\n",
            "------------------------------\n",
            "NLTK tags: [('The', 'DT'), ('man', 'NN'), ('the', 'DT'), ('boat', 'NN'), ('the', 'DT'), ('river', 'NN'), ('.', '.')]\n",
            "SpaCy tags: [('The', 'DET'), ('man', 'NOUN'), ('the', 'DET'), ('boat', 'NOUN'), ('the', 'DET'), ('river', 'NOUN'), ('.', 'PUNCT')]\n",
            "\n",
            "🔍 Edge Case 4:\n",
            "Text: Police police Police police police police Police police.\n",
            "------------------------------\n",
            "NLTK tags: [('Police', 'NNP'), ('police', 'NNS'), ('Police', 'NNP'), ('police', 'NNS'), ('police', 'NN'), ('police', 'NN'), ('Police', 'NNP'), ('police', 'NNS'), ('.', '.')]\n",
            "SpaCy tags: [('Police', 'NOUN'), ('police', 'NOUN'), ('Police', 'NOUN'), ('police', 'NOUN'), ('police', 'NOUN'), ('police', 'NOUN'), ('Police', 'NOUN'), ('police', 'NOUN'), ('.', 'PUNCT')]\n",
            "\n",
            "🔍 Edge Case 5:\n",
            "Text: James while John had had had had had had had had had had had a better effect on the teacher.\n",
            "------------------------------\n",
            "NLTK tags: [('James', 'NNP'), ('while', 'IN'), ('John', 'NNP'), ('had', 'VBD'), ('had', 'VBN'), ('had', 'VBN'), ('had', 'VBN'), ('had', 'VBN'), ('had', 'VBN'), ('had', 'VBN'), ('had', 'VBN'), ('had', 'VBN'), ('had', 'VBN'), ('had', 'VBN'), ('a', 'DT'), ('better', 'RBR'), ('effect', 'NN'), ('on', 'IN'), ('the', 'DT'), ('teacher', 'NN'), ('.', '.')]\n",
            "SpaCy tags: [('James', 'PROPN'), ('while', 'SCONJ'), ('John', 'PROPN'), ('had', 'AUX'), ('had', 'AUX'), ('had', 'AUX'), ('had', 'AUX'), ('had', 'AUX'), ('had', 'AUX'), ('had', 'AUX'), ('had', 'AUX'), ('had', 'AUX'), ('had', 'AUX'), ('had', 'VERB'), ('a', 'DET'), ('better', 'ADJ'), ('effect', 'NOUN'), ('on', 'ADP'), ('the', 'DET'), ('teacher', 'NOUN'), ('.', 'PUNCT')]\n",
            "\n",
            "🔍 Edge Case 6:\n",
            "Text: Can can can can can can can can can can.\n",
            "------------------------------\n",
            "NLTK tags: [('Can', 'MD'), ('can', 'MD'), ('can', 'MD'), ('can', 'MD'), ('can', 'MD'), ('can', 'MD'), ('can', 'MD'), ('can', 'MD'), ('can', 'MD'), ('can', 'MD'), ('.', '.')]\n",
            "SpaCy tags: [('Can', 'AUX'), ('can', 'AUX'), ('can', 'AUX'), ('can', 'AUX'), ('can', 'AUX'), ('can', 'AUX'), ('can', 'AUX'), ('can', 'AUX'), ('can', 'AUX'), ('can', 'VERB'), ('.', 'PUNCT')]\n",
            "\n",
            "🔍 Edge Case 7:\n",
            "Text: @username #hashtag http://bit.ly/abc123 😂🔥💯\n",
            "------------------------------\n",
            "NLTK tags: [('@', 'JJ'), ('username', 'JJ'), ('#', '#'), ('hashtag', 'JJ'), ('http', 'NN'), (':', ':'), ('//bit.ly/abc123', 'NN'), ('😂🔥💯', 'NN')]\n",
            "SpaCy tags: [('@username', 'PROPN'), ('#', 'SYM'), ('hashtag', 'NOUN'), ('http://bit.ly/abc123', 'PROPN'), ('😂', 'PROPN'), ('🔥', 'X'), ('💯', 'NOUN')]\n",
            "  SpaCy potential issues (tagged 'X'): [('🔥', 'X')]\n",
            "\n",
            "🔍 Edge Case 8:\n",
            "Text: COVID-19 AI/ML IoT APIs RESTful microservices\n",
            "------------------------------\n",
            "NLTK tags: [('COVID-19', 'JJ'), ('AI/ML', 'NNP'), ('IoT', 'NNP'), ('APIs', 'NNP'), ('RESTful', 'NNP'), ('microservices', 'NNS')]\n",
            "SpaCy tags: [('COVID-19', 'PROPN'), ('AI', 'PROPN'), ('/', 'SYM'), ('ML', 'PROPN'), ('IoT', 'ADJ'), ('APIs', 'NOUN'), ('RESTful', 'PART'), ('microservices', 'NOUN')]\n",
            "\n",
            "🤔 REFLECTION ON LIMITATIONS:\n",
            "========================================\n",
            "1 Repetitive word order (like 'Buffalo buffalo...') makes it hard for taggers to pick the correct tags.\n",
            "2 Sentences with multiple meanings can trick taggers into giving the wrong part of speech.\n",
            "3 Weird sentence structures like 'The man the boat the river' confuse the tagger because they don’t follow grammar normally.\n",
            "4 Repeating the same word over and over, like 'Police police...', makes it hard to tell what each word is doing.\n",
            "5 Weird grammar (like 'James had had had...') throws off tagging because it looks wrong even when it's correct.\n",
            "6 Words repeated over and over (like 'can can can...') challenge the taggers' ability to track structure.\n",
            "7 Emojis, hashtags, and URLs confuse taggers that weren’t trained purposely for social media text.\n",
            "8 Modern terms like 'AI/ML' often get split or tagged in weird and confusing ways.\n"
          ]
        }
      ],
      "source": [
        "# Challenging edge cases\n",
        "edge_cases = [\n",
        "    \"Buffalo buffalo Buffalo buffalo buffalo buffalo Buffalo buffalo.\",  # Famous ambiguous sentence\n",
        "    \"Time flies like an arrow; fruit flies like a banana.\",              # Classic ambiguity\n",
        "    \"The man the boat the river.\",                                       # Garden path sentence\n",
        "    \"Police police Police police police police Police police.\",          # Recursive structure\n",
        "    \"James while John had had had had had had had had had had had a better effect on the teacher.\",  # Had had had...\n",
        "    \"Can can can can can can can can can can.\",                         # Modal/noun ambiguity\n",
        "    \"@username #hashtag http://bit.ly/abc123 😂🔥💯\",                   # Social media elements\n",
        "    \"COVID-19 AI/ML IoT APIs RESTful microservices\",                    # Modern technical terms\n",
        "]\n",
        "\n",
        "print(\"🚨 EDGE CASE ANALYSIS\")\n",
        "print(\"=\" * 50)\n",
        "\n",
        "# TODO: Process each edge case and analyze failures\n",
        "for i, text in enumerate(edge_cases, 1):\n",
        "    print(f\"\\n🔍 Edge Case {i}:\")\n",
        "    print(f\"Text: {text}\")\n",
        "    print(\"-\" * 30)\n",
        "\n",
        "    try:\n",
        "        # TODO: Process with both taggers\n",
        "        nltk_tokens = nltk.word_tokenize(text)\n",
        "        nltk_tags = nltk.pos_tag(nltk_tokens)\n",
        "        spacy_doc = nlp(text)\n",
        "\n",
        "        # TODO: Identify potential errors or weird tags\n",
        "        # Look for: repeated tags, unusual patterns, X tags, etc.\n",
        "\n",
        "        print(\"NLTK tags:\", [(w, t) for w, t in nltk_tags])\n",
        "        print(\"SpaCy tags:\", [(token.text, token.pos_) for token in spacy_doc])\n",
        "\n",
        "        # TODO: Analyze what went wrong\n",
        "        # Print any tokens with 'X' tag in SpaCy as potential issues\n",
        "        spacy_unknown_tokens = [(token.text, token.pos_) for token in spacy_doc if token.pos_ == 'X']\n",
        "        if spacy_unknown_tokens:\n",
        "            print(f\"  SpaCy potential issues (tagged 'X'): {spacy_unknown_tokens}\")\n",
        "\n",
        "        # You could add more complex analysis here, e.g., checking for unexpected tag sequences\n",
        "\n",
        "    except Exception as e:\n",
        "        print(f\"❌ Error processing: {e}\")\n",
        "\n",
        "# TODO: Reflection on limitations\n",
        "print(\"\\n🤔 REFLECTION ON LIMITATIONS:\")\n",
        "print(\"=\" * 40)\n",
        "print(\"1 Repetitive word order (like 'Buffalo buffalo...') makes it hard for taggers to pick the correct tags.\")\n",
        "print(\"2 Sentences with multiple meanings can trick taggers into giving the wrong part of speech.\")\n",
        "print(\"3 Weird sentence structures like 'The man the boat the river' confuse the tagger because they don’t follow grammar normally.\")\n",
        "print(\"4 Repeating the same word over and over, like 'Police police...', makes it hard to tell what each word is doing.\")\n",
        "print(\"5 Weird grammar (like 'James had had had...') throws off tagging because it looks wrong even when it's correct.\")\n",
        "print(\"6 Words repeated over and over (like 'can can can...') challenge the taggers' ability to track structure.\")\n",
        "print(\"7 Emojis, hashtags, and URLs confuse taggers that weren’t trained purposely for social media text.\")\n",
        "print(\"8 Modern terms like 'AI/ML' often get split or tagged in weird and confusing ways.\")\n"
      ]
    },
    {
      "cell_type": "markdown",
      "id": "969fe260",
      "metadata": {
        "id": "969fe260"
      },
      "source": [
        "\n",
        "### 🧠 Critical Thinking Questions:\n",
        "Enter you asnwers below each question.\n",
        "1. Why do these edge cases break the taggers?\n",
        "Its because the sentences are unusual and repetitive and most taggers rely on typical grammar patterns to make their decisions.\n",
        "2. How might you preprocess text to handle some of these issues? As menioned before i could expand slag as in expain it directly.\n",
        "\n",
        "3. When would these limitations matter in real applications?\n",
        "They would matter in real applications such as social media considering that text is never grammatically correct in social media.\n",
        "4. How do modern large language models handle these cases differently? I would say they understand broader text and meaning being able to tag weird sentences.\n",
        "\n",
        "---\n"
      ]
    },
    {
      "cell_type": "markdown",
      "id": "4aa06861",
      "metadata": {
        "id": "4aa06861"
      },
      "source": [
        "\n",
        "## 🎯 Final Reflection and Submission\n",
        "\n",
        "Congratulations! You've completed a comprehensive exploration of POS tagging, from basic concepts to real-world challenges.\n",
        "\n",
        "### 📝 Reflection Questions (Answer in the cell below):\n",
        "\n",
        "1. **Tool Comparison**: Based on your experience, when would you choose NLTK vs SpaCy? Consider factors like ease of use, accuracy, speed, and application type.\n",
        "\n",
        "2. **Real-World Applications**: Describe a specific business problem where POS tagging would be valuable. How would you implement it?\n",
        "\n",
        "3. **Limitations and Solutions**: What are the biggest limitations you discovered? How might you work around them?\n",
        "\n",
        "4. **Future Learning**: What aspects of POS tagging would you like to explore further? (Neural approaches, custom training, domain adaptation, etc.)\n",
        "\n",
        "5. **Integration**: How does POS tagging fit into larger NLP pipelines? What other NLP tasks might benefit from POS information?\n"
      ]
    },
    {
      "cell_type": "markdown",
      "id": "b1c5480f",
      "metadata": {
        "id": "b1c5480f"
      },
      "source": [
        "\n",
        "### ✍️ Your Reflection (Write your answers here):\n",
        "**Remember Reflection is not description!**\n",
        "\n",
        "**1. Tool Comparison:**\n",
        "I would use SpaCy for situations where text has lots of slang but NLTK when speed is a priority and not accuracy.\n",
        "\n",
        "**2. Real-World Applications:**\n",
        "I would say a specific business problem where POS would be valubable would be like in a company chatbot which would be able to understand what customers are talking about such as issues with their order and redirect them to a proper department.\n",
        "**3. Limitations and Solutions:**\n",
        "I would say the biggsest limitation is the undestanding of slang or sarcasm but for the most i could work around slang by explaining what it means in the code.\n",
        "\n",
        "**4. Future Learning:**\n",
        "I would like to explore custom training a bit further.\n",
        "\n",
        "**5. Integration:**\n",
        "POS fits into NLP pipelines by helping the system understand what each word is doing. POS helps other NLP tasks such as summarizing or translation.\n"
      ]
    },
    {
      "cell_type": "markdown",
      "id": "e96f81e5",
      "metadata": {
        "id": "e96f81e5"
      },
      "source": [
        "\n",
        "---\n",
        "\n",
        "## 📤 Submission Checklist\n",
        "\n",
        "Before submitting your completed notebook, make sure you have:\n",
        "\n",
        "- [ ] ✅ Completed all TODO sections with working code\n",
        "- [ ] ✅ Answered all reflection questions thoughtfully\n",
        "- [ ] ✅ Created at least one meaningful visualization\n",
        "- [ ] ✅ Tested your code and fixed any errors\n",
        "- [ ] ✅ Added comments explaining your approach\n",
        "- [ ] ✅ Included insights from your analysis\n",
        "\n",
        "### 📋 Submission Instructions:\n",
        "1. **Save your notebook**: File → Save (or Ctrl+S)\n",
        "2. **Download**: File → Download → Download .ipynb\n",
        "3. **Submit**: Upload your completed notebook file to the course management system\n",
        "4. **Filename**: Use format: `L05_LastName_FirstName_ITAI2373.ipynb or pdf`  \n",
        "\n",
        "### 🏆 Grading Criteria:\n",
        "- **Code Completion (40%)**: All exercises completed with working code\n",
        "- **Analysis Quality (30%)**: Thoughtful interpretation of results\n",
        "- **Reflection Depth (20%)**: Insightful answers to reflection questions  \n",
        "- **Code Quality (10%)**: Clean, commented, well-organized code\n",
        "\n",
        "---\n",
        "\n",
        "## 🎉 Great Work!\n",
        "\n",
        "You've successfully explored the fascinating world of POS tagging! You now understand how computers parse human language and can apply these techniques to solve real-world problems.\n",
        "\n",
        "\n",
        "Keep exploring and happy coding! 🚀\n"
      ]
    }
  ],
  "metadata": {
    "colab": {
      "provenance": []
    },
    "language_info": {
      "name": "python"
    },
    "kernelspec": {
      "name": "python3",
      "display_name": "Python 3"
    }
  },
  "nbformat": 4,
  "nbformat_minor": 5
}